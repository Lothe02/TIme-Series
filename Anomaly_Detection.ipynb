{
  "cells": [
    {
      "cell_type": "code",
      "execution_count": 28,
      "metadata": {
        "id": "46fb11c2"
      },
      "outputs": [],
      "source": [
        "import numpy as np\n",
        "from keras.models import Sequential\n",
        "from keras.layers import LSTM, Input, Dropout\n",
        "from keras.layers import Dense\n",
        "from keras.layers import RepeatVector\n",
        "from keras.layers import TimeDistributed\n",
        "import pandas as pd\n",
        "from matplotlib import pyplot as plt\n",
        "from sklearn.preprocessing import MinMaxScaler, StandardScaler\n",
        "from keras.models import Model\n",
        "import seaborn as sns"
      ],
      "id": "46fb11c2"
    },
    {
      "cell_type": "code",
      "execution_count": 66,
      "metadata": {
        "colab": {
          "base_uri": "https://localhost:8080/"
        },
        "id": "788146e4",
        "outputId": "41c5f0e9-37c1-4d02-812c-4612f0bac46c"
      },
      "outputs": [
        {
          "output_type": "stream",
          "name": "stderr",
          "text": [
            "/usr/local/lib/python3.7/dist-packages/ipykernel_launcher.py:3: SettingWithCopyWarning: \n",
            "A value is trying to be set on a copy of a slice from a DataFrame.\n",
            "Try using .loc[row_indexer,col_indexer] = value instead\n",
            "\n",
            "See the caveats in the documentation: https://pandas.pydata.org/pandas-docs/stable/user_guide/indexing.html#returning-a-view-versus-a-copy\n",
            "  This is separate from the ipykernel package so we can avoid doing imports until\n"
          ]
        }
      ],
      "source": [
        "dataframe = pd.read_csv('BAJAJ-AUTO.NS.csv')\n",
        "df = dataframe[['Date', 'Close']]\n",
        "df['Date'] = pd.to_datetime(df['Date'])"
      ],
      "id": "788146e4"
    },
    {
      "cell_type": "code",
      "execution_count": 67,
      "metadata": {
        "colab": {
          "base_uri": "https://localhost:8080/"
        },
        "id": "80bc6908",
        "outputId": "c03fd866-3afd-4fa3-bf49-627328706d2b"
      },
      "outputs": [
        {
          "output_type": "execute_result",
          "data": {
            "text/plain": [
              "Date     0\n",
              "Close    7\n",
              "dtype: int64"
            ]
          },
          "metadata": {},
          "execution_count": 67
        }
      ],
      "source": [
        "df.isnull().sum()"
      ],
      "id": "80bc6908"
    },
    {
      "cell_type": "code",
      "execution_count": 68,
      "metadata": {
        "id": "Famwm-yxgEC7"
      },
      "outputs": [],
      "source": [
        "df=df.dropna()"
      ],
      "id": "Famwm-yxgEC7"
    },
    {
      "cell_type": "code",
      "execution_count": 69,
      "metadata": {
        "colab": {
          "base_uri": "https://localhost:8080/",
          "height": 296
        },
        "id": "0560ec3e",
        "outputId": "3b17d787-2aa0-40b9-b06f-bf75e1534e2e"
      },
      "outputs": [
        {
          "output_type": "execute_result",
          "data": {
            "text/plain": [
              "<matplotlib.axes._subplots.AxesSubplot at 0x7ff63b1f5b50>"
            ]
          },
          "metadata": {},
          "execution_count": 69
        },
        {
          "output_type": "display_data",
          "data": {
            "text/plain": [
              "<Figure size 432x288 with 1 Axes>"
            ],
            "image/png": "[encoded data removed]"
          },
          "metadata": {
            "needs_background": "light"
          }
        }
      ],
      "source": [
        "sns.lineplot(x=df['Date'], y=df['Close'])"
      ],
      "id": "0560ec3e"
    },
    {
      "cell_type": "code",
      "execution_count": 70,
      "metadata": {
        "colab": {
          "base_uri": "https://localhost:8080/"
        },
        "id": "661187b0",
        "outputId": "d7a21b26-0bf3-41fe-8923-d9c4d896d838"
      },
      "outputs": [
        {
          "output_type": "stream",
          "name": "stdout",
          "text": [
            "Start date is:  2003-01-01 00:00:00\n",
            "End date is:  2022-08-08 00:00:00\n"
          ]
        }
      ],
      "source": [
        "print(\"Start date is: \", df['Date'].min())\n",
        "print(\"End date is: \", df['Date'].max())"
      ],
      "id": "661187b0"
    },
    {
      "cell_type": "code",
      "execution_count": 78,
      "metadata": {
        "id": "f83a1cd1"
      },
      "outputs": [],
      "source": [
        "#Change train data from Mid 2017 to 2019.... seems to be a jump early 2017\n",
        "train, test = df.loc[df['Date'] <= '2020-12-30'], df.loc[df['Date'] > '2020-12-31']"
      ],
      "id": "f83a1cd1"
    },
    {
      "cell_type": "code",
      "execution_count": 79,
      "metadata": {
        "id": "cff353c2"
      },
      "outputs": [],
      "source": [
        "#Convert pandas dataframe to numpy array\n",
        "#dataset = dataframe.values\n",
        "#dataset = dataset.astype('float32') #COnvert values to float\n",
        "\n",
        "#LSTM uses sigmoid and tanh that are sensitive to magnitude so values need to be normalized\n",
        "# normalize the dataset\n",
        "#scaler = MinMaxScaler() #Also try QuantileTransformer\n",
        "scaler = StandardScaler()\n",
        "scaler = scaler.fit(train[['Close']])"
      ],
      "id": "cff353c2"
    },
    {
      "cell_type": "code",
      "execution_count": 80,
      "metadata": {
        "colab": {
          "base_uri": "https://localhost:8080/"
        },
        "id": "763c1cea",
        "outputId": "c6a32130-39bf-400d-934d-ad5acf3582ea"
      },
      "outputs": [
        {
          "output_type": "stream",
          "name": "stderr",
          "text": [
            "/usr/local/lib/python3.7/dist-packages/ipykernel_launcher.py:1: SettingWithCopyWarning: \n",
            "A value is trying to be set on a copy of a slice from a DataFrame.\n",
            "Try using .loc[row_indexer,col_indexer] = value instead\n",
            "\n",
            "See the caveats in the documentation: https://pandas.pydata.org/pandas-docs/stable/user_guide/indexing.html#returning-a-view-versus-a-copy\n",
            "  \"\"\"Entry point for launching an IPython kernel.\n",
            "/usr/local/lib/python3.7/dist-packages/ipykernel_launcher.py:2: SettingWithCopyWarning: \n",
            "A value is trying to be set on a copy of a slice from a DataFrame.\n",
            "Try using .loc[row_indexer,col_indexer] = value instead\n",
            "\n",
            "See the caveats in the documentation: https://pandas.pydata.org/pandas-docs/stable/user_guide/indexing.html#returning-a-view-versus-a-copy\n",
            "  \n"
          ]
        }
      ],
      "source": [
        "train['Close'] = scaler.transform(train[['Close']])\n",
        "test['Close'] = scaler.transform(test[['Close']])"
      ],
      "id": "763c1cea"
    },
    {
      "cell_type": "code",
      "execution_count": 81,
      "metadata": {
        "id": "96c5bd25"
      },
      "outputs": [],
      "source": [
        "#As required for LSTM networks, we require to reshape an input data into n_samples x timesteps x n_features. \n",
        "#In this example, the n_features is 2. We will make timesteps = 3. \n",
        "#With this, the resultant n_samples is 5 (as the input data has 9 rows).\n",
        "\n",
        "seq_size = 35  # Number of time steps to look back \n",
        "#Larger sequences (look further back) may improve forecasting."
      ],
      "id": "96c5bd25"
    },
    {
      "cell_type": "code",
      "execution_count": 82,
      "metadata": {
        "id": "7067bbe3"
      },
      "outputs": [],
      "source": [
        "def to_sequences(x, y, seq_size=1):\n",
        "    x_values = []\n",
        "    y_values = []\n",
        "\n",
        "    for i in range(len(x)-seq_size):\n",
        "        #print(i)\n",
        "        x_values.append(x.iloc[i:(i+seq_size)].values)\n",
        "        y_values.append(y.iloc[i+seq_size])\n",
        "        \n",
        "    return np.array(x_values), np.array(y_values)\n"
      ],
      "id": "7067bbe3"
    },
    {
      "cell_type": "code",
      "execution_count": 83,
      "metadata": {
        "id": "5d190414"
      },
      "outputs": [],
      "source": [
        "trainX, trainY = to_sequences(train[['Close']], train['Close'], seq_size)\n",
        "testX, testY = to_sequences(test[['Close']], test['Close'], seq_size)"
      ],
      "id": "5d190414"
    },
    {
      "cell_type": "code",
      "execution_count": 84,
      "metadata": {
        "colab": {
          "base_uri": "https://localhost:8080/"
        },
        "id": "732d805e",
        "outputId": "e1bb55da-6a9c-4ca6-9233-c4ffcb4e7c2b"
      },
      "outputs": [
        {
          "output_type": "stream",
          "name": "stdout",
          "text": [
            "Model: \"sequential_4\"\n",
            "_________________________________________________________________\n",
            " Layer (type)                Output Shape              Param #   \n",
            "=================================================================\n",
            " lstm_8 (LSTM)               (None, 128)               66560     \n",
            "                                                                 \n",
            " dropout_8 (Dropout)         (None, 128)               0         \n",
            "                                                                 \n",
            " repeat_vector_4 (RepeatVect  (None, 35, 128)          0         \n",
            " or)                                                             \n",
            "                                                                 \n",
            " lstm_9 (LSTM)               (None, 35, 128)           131584    \n",
            "                                                                 \n",
            " dropout_9 (Dropout)         (None, 35, 128)           0         \n",
            "                                                                 \n",
            " time_distributed_4 (TimeDis  (None, 35, 1)            129       \n",
            " tributed)                                                       \n",
            "                                                                 \n",
            "=================================================================\n",
            "Total params: 198,273\n",
            "Trainable params: 198,273\n",
            "Non-trainable params: 0\n",
            "_________________________________________________________________\n"
          ]
        }
      ],
      "source": [
        "# define Autoencoder model\n",
        "#Input shape would be seq_size, 1 - 1 beacuse we have 1 feature. \n",
        "# seq_size = trainX.shape[1]\n",
        "\n",
        "# model = Sequential()\n",
        "# model.add(LSTM(128, activation='relu', input_shape=(trainX.shape[1], trainX.shape[2]), return_sequences=True))\n",
        "# model.add(LSTM(64, activation='relu', return_sequences=False))\n",
        "# model.add(RepeatVector(trainX.shape[1]))\n",
        "# model.add(LSTM(64, activation='relu', return_sequences=True))\n",
        "# model.add(LSTM(128, activation='relu', return_sequences=True))\n",
        "# model.add(TimeDistributed(Dense(trainX.shape[2])))\n",
        "\n",
        "# model.compile(optimizer='adam', loss='mse')\n",
        "# model.summary()\n",
        "\n",
        "#Try another model\n",
        "model = Sequential()\n",
        "model.add(LSTM(128, input_shape=(trainX.shape[1], trainX.shape[2])))\n",
        "model.add(Dropout(rate=0.2))\n",
        "\n",
        "model.add(RepeatVector(trainX.shape[1]))\n",
        "\n",
        "model.add(LSTM(128, return_sequences=True))\n",
        "model.add(Dropout(rate=0.2))\n",
        "model.add(TimeDistributed(Dense(trainX.shape[2])))\n",
        "model.compile(optimizer='adam', loss='mae')\n",
        "model.summary()\n"
      ],
      "id": "732d805e"
    },
    {
      "cell_type": "code",
      "execution_count": 85,
      "metadata": {
        "id": "7538b5ae",
        "colab": {
          "base_uri": "https://localhost:8080/"
        },
        "outputId": "60242bee-7cfe-4846-8010-fdaff8241bf7"
      },
      "outputs": [
        {
          "output_type": "stream",
          "name": "stdout",
          "text": [
            "Epoch 1/10\n",
            "133/133 [==============================] - 4s 12ms/step - loss: 0.1560 - val_loss: 0.1210\n",
            "Epoch 2/10\n",
            "133/133 [==============================] - 1s 7ms/step - loss: 0.1210 - val_loss: 0.1090\n",
            "Epoch 3/10\n",
            "133/133 [==============================] - 1s 7ms/step - loss: 0.1041 - val_loss: 0.1223\n",
            "Epoch 4/10\n",
            "133/133 [==============================] - 1s 7ms/step - loss: 0.0993 - val_loss: 0.1147\n",
            "Epoch 5/10\n",
            "133/133 [==============================] - 1s 7ms/step - loss: 0.0971 - val_loss: 0.1188\n",
            "Epoch 6/10\n",
            "133/133 [==============================] - 1s 6ms/step - loss: 0.1129 - val_loss: 0.0984\n",
            "Epoch 7/10\n",
            "133/133 [==============================] - 1s 7ms/step - loss: 0.1188 - val_loss: 0.0999\n",
            "Epoch 8/10\n",
            "133/133 [==============================] - 1s 6ms/step - loss: 0.1223 - val_loss: 0.0948\n",
            "Epoch 9/10\n",
            "133/133 [==============================] - 1s 6ms/step - loss: 0.1360 - val_loss: 0.1230\n",
            "Epoch 10/10\n",
            "133/133 [==============================] - 1s 7ms/step - loss: 0.1413 - val_loss: 0.1255\n"
          ]
        }
      ],
      "source": [
        "# fit model\n",
        "history = model.fit(trainX, trainY, epochs=10, batch_size=30,shuffle=False,validation_split=0.1)"
      ],
      "id": "7538b5ae"
    },
    {
      "cell_type": "code",
      "execution_count": 86,
      "metadata": {
        "colab": {
          "base_uri": "https://localhost:8080/",
          "height": 282
        },
        "id": "76fa1041",
        "outputId": "16c8cb6b-4cff-494a-f9ed-8e8e7a33e4bf"
      },
      "outputs": [
        {
          "output_type": "execute_result",
          "data": {
            "text/plain": [
              "<matplotlib.legend.Legend at 0x7ff63ba8a090>"
            ]
          },
          "metadata": {},
          "execution_count": 86
        },
        {
          "output_type": "display_data",
          "data": {
            "text/plain": [
              "<Figure size 432x288 with 1 Axes>"
            ],
            "image/png": "[encoded data removed]"
          },
          "metadata": {
            "needs_background": "light"
          }
        }
      ],
      "source": [
        "plt.plot(history.history['loss'], label='Training loss')\n",
        "plt.plot(history.history['val_loss'], label='Validation loss')\n",
        "plt.legend()"
      ],
      "id": "76fa1041"
    },
    {
      "cell_type": "code",
      "execution_count": 100,
      "metadata": {
        "colab": {
          "base_uri": "https://localhost:8080/",
          "height": 265
        },
        "id": "c126eb21",
        "outputId": "bee85b56-eb0b-4c2a-ea30-46e9fe4ad40e"
      },
      "outputs": [
        {
          "output_type": "display_data",
          "data": {
            "text/plain": [
              "<Figure size 432x288 with 1 Axes>"
            ],
            "image/png": "[encoded data removed]"
          },
          "metadata": {
            "needs_background": "light"
          }
        }
      ],
      "source": [
        "\n",
        "#model.evaluate(testX, testY)\n",
        "\n",
        "###########################\n",
        "#Anomaly is where reconstruction error is large.\n",
        "#We can define this value beyond which we call anomaly.\n",
        "#Let us look at MAE in training prediction\n",
        "\n",
        "trainPredict = model.predict(trainX)\n",
        "trainMAE = np.mean(np.abs(trainPredict - trainX), axis=1)\n",
        "plt.hist(trainMAE, bins=30)\n",
        "max_trainMAE =0.6 #or Define 90% value of max as threshold.\n"
      ],
      "id": "c126eb21"
    },
    {
      "cell_type": "code",
      "execution_count": 101,
      "metadata": {
        "colab": {
          "base_uri": "https://localhost:8080/",
          "height": 456
        },
        "id": "8f0c3143",
        "outputId": "7db1bdf2-cb2b-44dc-b4ed-f8adcd75d3c3"
      },
      "outputs": [
        {
          "output_type": "execute_result",
          "data": {
            "text/plain": [
              "(array([ 5.,  3.,  5.,  9., 17., 15., 22., 28., 21., 19., 28., 16.,  9.,\n",
              "        15., 15., 21., 22., 11., 11., 10.,  7.,  7.,  9.,  6., 12., 10.,\n",
              "         3.,  4.,  2.,  1.]),\n",
              " array([0.08523022, 0.1025622 , 0.11989417, 0.13722615, 0.15455813,\n",
              "        0.17189011, 0.18922209, 0.20655407, 0.22388605, 0.24121803,\n",
              "        0.25855001, 0.27588199, 0.29321397, 0.31054595, 0.32787793,\n",
              "        0.34520991, 0.36254189, 0.37987387, 0.39720585, 0.41453783,\n",
              "        0.43186981, 0.44920179, 0.46653377, 0.48386575, 0.50119773,\n",
              "        0.51852971, 0.53586169, 0.55319367, 0.57052565, 0.58785763,\n",
              "        0.60518961]),\n",
              " <a list of 30 Patch objects>)"
            ]
          },
          "metadata": {},
          "execution_count": 101
        },
        {
          "output_type": "display_data",
          "data": {
            "text/plain": [
              "<Figure size 432x288 with 1 Axes>"
            ],
            "image/png": "[encoded data removed]"
          },
          "metadata": {
            "needs_background": "light"
          }
        }
      ],
      "source": [
        "testPredict = model.predict(testX)\n",
        "testMAE = np.mean(np.abs(testPredict - testX), axis=1)\n",
        "plt.hist(testMAE, bins=30)\n"
      ],
      "id": "8f0c3143"
    },
    {
      "cell_type": "code",
      "execution_count": 102,
      "metadata": {
        "id": "af7306ee"
      },
      "outputs": [],
      "source": [
        "#Capture all details in a DataFrame for easy plotting\n",
        "anomaly_df = pd.DataFrame(test[seq_size:])\n",
        "anomaly_df['testMAE'] = testMAE\n",
        "anomaly_df['max_trainMAE'] = max_trainMAE\n",
        "anomaly_df['anomaly'] = anomaly_df['testMAE'] > anomaly_df['max_trainMAE']\n",
        "anomaly_df['Close'] = test[seq_size:]['Close']\n"
      ],
      "id": "af7306ee"
    },
    {
      "cell_type": "code",
      "execution_count": 103,
      "metadata": {
        "colab": {
          "base_uri": "https://localhost:8080/",
          "height": 296
        },
        "id": "72f6342f",
        "outputId": "9319d93b-3163-4a88-9cff-562f5a975303"
      },
      "outputs": [
        {
          "output_type": "execute_result",
          "data": {
            "text/plain": [
              "<matplotlib.axes._subplots.AxesSubplot at 0x7ff6391ca190>"
            ]
          },
          "metadata": {},
          "execution_count": 103
        },
        {
          "output_type": "display_data",
          "data": {
            "text/plain": [
              "<Figure size 432x288 with 1 Axes>"
            ],
            "image/png": "[encoded data removed]"
          },
          "metadata": {
            "needs_background": "light"
          }
        }
      ],
      "source": [
        "#Plot testMAE vs max_trainMAE\n",
        "sns.lineplot(x=anomaly_df['Date'], y=anomaly_df['testMAE'])\n",
        "sns.lineplot(x=anomaly_df['Date'], y=anomaly_df['max_trainMAE'])"
      ],
      "id": "72f6342f"
    },
    {
      "cell_type": "code",
      "execution_count": 104,
      "metadata": {
        "id": "7ec704aa"
      },
      "outputs": [],
      "source": [
        "anomalies = anomaly_df.loc[anomaly_df['anomaly'] == True]"
      ],
      "id": "7ec704aa"
    },
    {
      "cell_type": "code",
      "execution_count": 105,
      "metadata": {
        "colab": {
          "base_uri": "https://localhost:8080/",
          "height": 81
        },
        "id": "19c3a816",
        "outputId": "63179775-505f-4847-aef7-dd4b6b2b46bf"
      },
      "outputs": [
        {
          "output_type": "execute_result",
          "data": {
            "text/plain": [
              "           Date     Close  testMAE  max_trainMAE  anomaly\n",
              "4529 2021-03-18  2.040719  0.60519           0.6     True"
            ],
            "text/html": [
              "\n",
              "  <div id=\"df-c2c5e993-7c5f-4ba9-992d-f33df41dd25a\">\n",
              "    <div class=\"colab-df-container\">\n",
              "      <div>\n",
              "<style scoped>\n",
              "    .dataframe tbody tr th:only-of-type {\n",
              "        vertical-align: middle;\n",
              "    }\n",
              "\n",
              "    .dataframe tbody tr th {\n",
              "        vertical-align: top;\n",
              "    }\n",
              "\n",
              "    .dataframe thead th {\n",
              "        text-align: right;\n",
              "    }\n",
              "</style>\n",
              "<table border=\"1\" class=\"dataframe\">\n",
              "  <thead>\n",
              "    <tr style=\"text-align: right;\">\n",
              "      <th></th>\n",
              "      <th>Date</th>\n",
              "      <th>Close</th>\n",
              "      <th>testMAE</th>\n",
              "      <th>max_trainMAE</th>\n",
              "      <th>anomaly</th>\n",
              "    </tr>\n",
              "  </thead>\n",
              "  <tbody>\n",
              "    <tr>\n",
              "      <th>4529</th>\n",
              "      <td>2021-03-18</td>\n",
              "      <td>2.040719</td>\n",
              "      <td>0.60519</td>\n",
              "      <td>0.6</td>\n",
              "      <td>True</td>\n",
              "    </tr>\n",
              "  </tbody>\n",
              "</table>\n",
              "</div>\n",
              "      <button class=\"colab-df-convert\" onclick=\"convertToInteractive('df-c2c5e993-7c5f-4ba9-992d-f33df41dd25a')\"\n",
              "              title=\"Convert this dataframe to an interactive table.\"\n",
              "              style=\"display:none;\">\n",
              "        \n",
              "  <svg xmlns=\"http://www.w3.org/2000/svg\" height=\"24px\"viewBox=\"0 0 24 24\"\n",
              "       width=\"24px\">\n",
              "    <path d=\"M0 0h24v24H0V0z\" fill=\"none\"/>\n",
              "    <path d=\"M18.56 5.44l.94 2.06.94-2.06 2.06-.94-2.06-.94-.94-2.06-.94 2.06-2.06.94zm-11 1L8.5 8.5l.94-2.06 2.06-.94-2.06-.94L8.5 2.5l-.94 2.06-2.06.94zm10 10l.94 2.06.94-2.06 2.06-.94-2.06-.94-.94-2.06-.94 2.06-2.06.94z\"/><path d=\"M17.41 7.96l-1.37-1.37c-.4-.4-.92-.59-1.43-.59-.52 0-1.04.2-1.43.59L10.3 9.45l-7.72 7.72c-.78.78-.78 2.05 0 2.83L4 21.41c.39.39.9.59 1.41.59.51 0 1.02-.2 1.41-.59l7.78-7.78 2.81-2.81c.8-.78.8-2.07 0-2.86zM5.41 20L4 18.59l7.72-7.72 1.47 1.35L5.41 20z\"/>\n",
              "  </svg>\n",
              "      </button>\n",
              "      \n",
              "  <style>\n",
              "    .colab-df-container {\n",
              "      display:flex;\n",
              "      flex-wrap:wrap;\n",
              "      gap: 12px;\n",
              "    }\n",
              "\n",
              "    .colab-df-convert {\n",
              "      background-color: #E8F0FE;\n",
              "      border: none;\n",
              "      border-radius: 50%;\n",
              "      cursor: pointer;\n",
              "      display: none;\n",
              "      fill: #1967D2;\n",
              "      height: 32px;\n",
              "      padding: 0 0 0 0;\n",
              "      width: 32px;\n",
              "    }\n",
              "\n",
              "    .colab-df-convert:hover {\n",
              "      background-color: #E2EBFA;\n",
              "      box-shadow: 0px 1px 2px rgba(60, 64, 67, 0.3), 0px 1px 3px 1px rgba(60, 64, 67, 0.15);\n",
              "      fill: #174EA6;\n",
              "    }\n",
              "\n",
              "    [theme=dark] .colab-df-convert {\n",
              "      background-color: #3B4455;\n",
              "      fill: #D2E3FC;\n",
              "    }\n",
              "\n",
              "    [theme=dark] .colab-df-convert:hover {\n",
              "      background-color: #434B5C;\n",
              "      box-shadow: 0px 1px 3px 1px rgba(0, 0, 0, 0.15);\n",
              "      filter: drop-shadow(0px 1px 2px rgba(0, 0, 0, 0.3));\n",
              "      fill: #FFFFFF;\n",
              "    }\n",
              "  </style>\n",
              "\n",
              "      <script>\n",
              "        const buttonEl =\n",
              "          document.querySelector('#df-c2c5e993-7c5f-4ba9-992d-f33df41dd25a button.colab-df-convert');\n",
              "        buttonEl.style.display =\n",
              "          google.colab.kernel.accessAllowed ? 'block' : 'none';\n",
              "\n",
              "        async function convertToInteractive(key) {\n",
              "          const element = document.querySelector('#df-c2c5e993-7c5f-4ba9-992d-f33df41dd25a');\n",
              "          const dataTable =\n",
              "            await google.colab.kernel.invokeFunction('convertToInteractive',\n",
              "                                                     [key], {});\n",
              "          if (!dataTable) return;\n",
              "\n",
              "          const docLinkHtml = 'Like what you see? Visit the ' +\n",
              "            '<a target=\"_blank\" href=https://colab.research.google.com/notebooks/data_table.ipynb>data table notebook</a>'\n",
              "            + ' to learn more about interactive tables.';\n",
              "          element.innerHTML = '';\n",
              "          dataTable['output_type'] = 'display_data';\n",
              "          await google.colab.output.renderOutput(dataTable, element);\n",
              "          const docLink = document.createElement('div');\n",
              "          docLink.innerHTML = docLinkHtml;\n",
              "          element.appendChild(docLink);\n",
              "        }\n",
              "      </script>\n",
              "    </div>\n",
              "  </div>\n",
              "  "
            ]
          },
          "metadata": {},
          "execution_count": 105
        }
      ],
      "source": [
        "anomalies"
      ],
      "id": "19c3a816"
    },
    {
      "cell_type": "code",
      "execution_count": 114,
      "metadata": {
        "colab": {
          "base_uri": "https://localhost:8080/",
          "height": 296
        },
        "id": "6ab50318",
        "outputId": "ac5904d4-de18-4487-bc0e-76649f35f4df"
      },
      "outputs": [
        {
          "output_type": "execute_result",
          "data": {
            "text/plain": [
              "<matplotlib.axes._subplots.AxesSubplot at 0x7ff62aae6dd0>"
            ]
          },
          "metadata": {},
          "execution_count": 114
        },
        {
          "output_type": "display_data",
          "data": {
            "text/plain": [
              "<Figure size 432x288 with 1 Axes>"
            ],
            "image/png": "[encoded data removed]"
          },
          "metadata": {
            "needs_background": "light"
          }
        }
      ],
      "source": [
        "sns.lineplot(x=df['Date'], y=df['Close'])"
      ],
      "id": "6ab50318"
    },
    {
      "cell_type": "code",
      "execution_count": 106,
      "metadata": {
        "id": "0cdc6b3e"
      },
      "outputs": [],
      "source": [
        ""
      ],
      "id": "0cdc6b3e"
    },
    {
      "cell_type": "code",
      "execution_count": 106,
      "metadata": {
        "id": "ac8c6393"
      },
      "outputs": [],
      "source": [
        ""
      ],
      "id": "ac8c6393"
    },
    {
      "cell_type": "code",
      "execution_count": null,
      "metadata": {
        "id": "a341f875"
      },
      "outputs": [],
      "source": [
        ""
      ],
      "id": "a341f875"
    },
    {
      "cell_type": "code",
      "execution_count": null,
      "metadata": {
        "id": "f36fdf41"
      },
      "outputs": [],
      "source": [
        ""
      ],
      "id": "f36fdf41"
    },
    {
      "cell_type": "code",
      "execution_count": null,
      "metadata": {
        "id": "b00e9f5b"
      },
      "outputs": [],
      "source": [
        ""
      ],
      "id": "b00e9f5b"
    },
    {
      "cell_type": "code",
      "execution_count": null,
      "metadata": {
        "id": "08314a4d"
      },
      "outputs": [],
      "source": [
        ""
      ],
      "id": "08314a4d"
    },
    {
      "cell_type": "code",
      "execution_count": null,
      "metadata": {
        "id": "ea46a11a"
      },
      "outputs": [],
      "source": [
        ""
      ],
      "id": "ea46a11a"
    },
    {
      "cell_type": "code",
      "execution_count": null,
      "metadata": {
        "id": "bc2bfead"
      },
      "outputs": [],
      "source": [
        ""
      ],
      "id": "bc2bfead"
    },
    {
      "cell_type": "code",
      "execution_count": null,
      "metadata": {
        "id": "3eaed164"
      },
      "outputs": [],
      "source": [
        ""
      ],
      "id": "3eaed164"
    },
    {
      "cell_type": "code",
      "execution_count": null,
      "metadata": {
        "id": "d96edbea"
      },
      "outputs": [],
      "source": [
        ""
      ],
      "id": "d96edbea"
    },
    {
      "cell_type": "code",
      "execution_count": null,
      "metadata": {
        "id": "8fc4a072"
      },
      "outputs": [],
      "source": [
        ""
      ],
      "id": "8fc4a072"
    },
    {
      "cell_type": "code",
      "execution_count": null,
      "metadata": {
        "id": "e22a4046"
      },
      "outputs": [],
      "source": [
        ""
      ],
      "id": "e22a4046"
    },
    {
      "cell_type": "code",
      "execution_count": null,
      "metadata": {
        "id": "09b9b96b"
      },
      "outputs": [],
      "source": [
        ""
      ],
      "id": "09b9b96b"
    },
    {
      "cell_type": "code",
      "execution_count": null,
      "metadata": {
        "id": "0a353be5"
      },
      "outputs": [],
      "source": [
        ""
      ],
      "id": "0a353be5"
    },
    {
      "cell_type": "code",
      "execution_count": null,
      "metadata": {
        "id": "91f80395"
      },
      "outputs": [],
      "source": [
        ""
      ],
      "id": "91f80395"
    },
    {
      "cell_type": "code",
      "execution_count": null,
      "metadata": {
        "id": "109de789"
      },
      "outputs": [],
      "source": [
        ""
      ],
      "id": "109de789"
    },
    {
      "cell_type": "code",
      "execution_count": null,
      "metadata": {
        "id": "31177edc"
      },
      "outputs": [],
      "source": [
        ""
      ],
      "id": "31177edc"
    },
    {
      "cell_type": "code",
      "execution_count": null,
      "metadata": {
        "id": "330981e1"
      },
      "outputs": [],
      "source": [
        ""
      ],
      "id": "330981e1"
    },
    {
      "cell_type": "code",
      "execution_count": null,
      "metadata": {
        "id": "1996c872"
      },
      "outputs": [],
      "source": [
        ""
      ],
      "id": "1996c872"
    },
    {
      "cell_type": "code",
      "execution_count": null,
      "metadata": {
        "id": "cb0d8754"
      },
      "outputs": [],
      "source": [
        ""
      ],
      "id": "cb0d8754"
    },
    {
      "cell_type": "code",
      "execution_count": null,
      "metadata": {
        "id": "509722e9"
      },
      "outputs": [],
      "source": [
        ""
      ],
      "id": "509722e9"
    },
    {
      "cell_type": "code",
      "execution_count": null,
      "metadata": {
        "id": "1e37a2ca"
      },
      "outputs": [],
      "source": [
        ""
      ],
      "id": "1e37a2ca"
    },
    {
      "cell_type": "code",
      "execution_count": null,
      "metadata": {
        "id": "904d08af"
      },
      "outputs": [],
      "source": [
        ""
      ],
      "id": "904d08af"
    },
    {
      "cell_type": "code",
      "execution_count": null,
      "metadata": {
        "id": "3e46c4b4"
      },
      "outputs": [],
      "source": [
        ""
      ],
      "id": "3e46c4b4"
    },
    {
      "cell_type": "code",
      "execution_count": null,
      "metadata": {
        "id": "a8c5ffd5"
      },
      "outputs": [],
      "source": [
        ""
      ],
      "id": "a8c5ffd5"
    },
    {
      "cell_type": "code",
      "execution_count": null,
      "metadata": {
        "id": "aaf240a6"
      },
      "outputs": [],
      "source": [
        ""
      ],
      "id": "aaf240a6"
    },
    {
      "cell_type": "code",
      "execution_count": null,
      "metadata": {
        "id": "117b22a3"
      },
      "outputs": [],
      "source": [
        ""
      ],
      "id": "117b22a3"
    },
    {
      "cell_type": "code",
      "execution_count": null,
      "metadata": {
        "id": "08c060bd"
      },
      "outputs": [],
      "source": [
        ""
      ],
      "id": "08c060bd"
    },
    {
      "cell_type": "code",
      "execution_count": null,
      "metadata": {
        "id": "03047bf3"
      },
      "outputs": [],
      "source": [
        ""
      ],
      "id": "03047bf3"
    }
  ],
  "metadata": {
    "accelerator": "GPU",
    "colab": {
      "name": "Anomaly Detection.ipynb",
      "provenance": [],
      "collapsed_sections": []
    },
    "gpuClass": "standard",
    "kernelspec": {
      "display_name": "Python 3 (ipykernel)",
      "language": "python",
      "name": "python3"
    },
    "language_info": {
      "codemirror_mode": {
        "name": "ipython",
        "version": 3
      },
      "file_extension": ".py",
      "mimetype": "text/x-python",
      "name": "python",
      "nbconvert_exporter": "python",
      "pygments_lexer": "ipython3",
      "version": "3.8.8"
    }
  },
  "nbformat": 4,
  "nbformat_minor": 5
}